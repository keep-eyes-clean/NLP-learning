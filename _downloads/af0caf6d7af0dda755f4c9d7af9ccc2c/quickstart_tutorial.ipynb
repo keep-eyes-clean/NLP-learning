{
  "cells": [
    {
      "cell_type": "code",
      "execution_count": null,
      "metadata": {
        "id": "gNKA0gaEtHWz"
      },
      "outputs": [],
      "source": [
        "# For tips on running notebooks in Google Colab, see\n",
        "# https://docs.pytorch.org/tutorials/beginner/colab\n",
        "%matplotlib inline"
      ]
    },
    {
      "cell_type": "markdown",
      "metadata": {
        "id": "xT4AMVlStHW0"
      },
      "source": [
        "[Learn the Basics](intro.html) \\|\\| **Quickstart** \\|\\|\n",
        "[Tensors](tensorqs_tutorial.html) \\|\\| [Datasets &\n",
        "DataLoaders](data_tutorial.html) \\|\\|\n",
        "[Transforms](transforms_tutorial.html) \\|\\| [Build\n",
        "Model](buildmodel_tutorial.html) \\|\\|\n",
        "[Autograd](autogradqs_tutorial.html) \\|\\|\n",
        "[Optimization](optimization_tutorial.html) \\|\\| [Save & Load\n",
        "Model](saveloadrun_tutorial.html)\n",
        "\n",
        "Quickstart\n",
        "==========\n",
        "\n",
        "This section runs through the API for common tasks in machine learning.\n",
        "Refer to the links in each section to dive deeper.\n",
        "\n",
        "Working with data\n",
        "-----------------\n",
        "\n",
        "PyTorch has two [primitives to work with\n",
        "data](https://pytorch.org/docs/stable/data.html):\n",
        "`torch.utils.data.DataLoader` and `torch.utils.data.Dataset`. `Dataset`\n",
        "stores the samples and their corresponding labels, and `DataLoader`\n",
        "wraps an iterable around the `Dataset`.\n"
      ]
    },
    {
      "cell_type": "code",
      "source": [
        "import torch\n",
        "from torch import nn\n",
        "from torch.utils.data import DataLoader\n",
        "from torchvision import datasets\n",
        "from torchvision.transforms import ToTensor"
      ],
      "metadata": {
        "id": "5ZLFz5K0tMGH"
      },
      "execution_count": 1,
      "outputs": []
    },
    {
      "cell_type": "markdown",
      "metadata": {
        "id": "butGhZ9JtHW1"
      },
      "source": [
        "PyTorch offers domain-specific libraries such as\n",
        "[TorchText](https://pytorch.org/text/stable/index.html),\n",
        "[TorchVision](https://pytorch.org/vision/stable/index.html), and\n",
        "[TorchAudio](https://pytorch.org/audio/stable/index.html), all of which\n",
        "include datasets. For this tutorial, we will be using a TorchVision\n",
        "dataset.\n",
        "\n",
        "The `torchvision.datasets` module contains `Dataset` objects for many\n",
        "real-world vision data like CIFAR, COCO ([full list\n",
        "here](https://pytorch.org/vision/stable/datasets.html)). In this\n",
        "tutorial, we use the FashionMNIST dataset. Every TorchVision `Dataset`\n",
        "includes two arguments: `transform` and `target_transform` to modify the\n",
        "samples and labels respectively.\n"
      ]
    },
    {
      "cell_type": "code",
      "source": [
        "# Download training data from open datasets\n",
        "training_data = datasets.FashionMNIST(\n",
        "    root=\"data\",\n",
        "    train=True,\n",
        "    download=True,\n",
        "    transform=ToTensor(),\n",
        ")\n",
        "\n",
        "# Download testing data from open datasets.\n",
        "test_data = datasets.FashionMNIST(\n",
        "    root=\"data\",\n",
        "    train=False,\n",
        "    download=True,\n",
        "    transform=ToTensor(),\n",
        ")"
      ],
      "metadata": {
        "colab": {
          "base_uri": "https://localhost:8080/"
        },
        "id": "RNHkWl3suiXn",
        "outputId": "f5e2e7b3-c917-4008-ceea-45eb0a457011"
      },
      "execution_count": 2,
      "outputs": [
        {
          "output_type": "stream",
          "name": "stderr",
          "text": [
            "100%|██████████| 26.4M/26.4M [00:02<00:00, 12.3MB/s]\n",
            "100%|██████████| 29.5k/29.5k [00:00<00:00, 212kB/s]\n",
            "100%|██████████| 4.42M/4.42M [00:01<00:00, 3.90MB/s]\n",
            "100%|██████████| 5.15k/5.15k [00:00<00:00, 13.6MB/s]\n"
          ]
        }
      ]
    },
    {
      "cell_type": "code",
      "source": [
        "img, label = training_data[0]\n",
        "print(type(img))   # <class 'torch.Tensor'>\n",
        "print(img.shape)   # torch.Size([1, 28, 28])\n",
        "print(label)       # 9 (表示 \"Ankle boot\")"
      ],
      "metadata": {
        "colab": {
          "base_uri": "https://localhost:8080/"
        },
        "id": "U1ZbywY4vc5y",
        "outputId": "970c3da4-923a-4ece-c761-26bfadb75888"
      },
      "execution_count": 3,
      "outputs": [
        {
          "output_type": "stream",
          "name": "stdout",
          "text": [
            "<class 'torch.Tensor'>\n",
            "torch.Size([1, 28, 28])\n",
            "9\n"
          ]
        }
      ]
    },
    {
      "cell_type": "markdown",
      "metadata": {
        "id": "lZe77YM2tHW1"
      },
      "source": [
        "We pass the `Dataset` as an argument to `DataLoader`. This wraps an\n",
        "iterable over our dataset, and supports automatic batching, sampling,\n",
        "shuffling and multiprocess data loading. Here we define a batch size of\n",
        "64, i.e. each element in the dataloader iterable will return a batch of\n",
        "64 features and labels.\n"
      ]
    },
    {
      "cell_type": "code",
      "source": [
        "batch_size = 64\n",
        "\n",
        "# create data loader\n",
        "train_dataloader = DataLoader(training_data, batch_size=batch_size)\n",
        "test_dataloader = DataLoader(test_data, batch_size=batch_size)\n",
        "\n",
        "for X, y in test_dataloader:\n",
        "  print(f\"Shape of X [N, C, H, W]: {X.shape}\")\n",
        "  print(f\"Shape of y: {y.shape}, {y.dtype}\")\n",
        "  break"
      ],
      "metadata": {
        "colab": {
          "base_uri": "https://localhost:8080/"
        },
        "id": "Fml7O1oNxXu0",
        "outputId": "5dead3f8-6e44-4e3d-e06c-83e8503dd412"
      },
      "execution_count": 4,
      "outputs": [
        {
          "output_type": "stream",
          "name": "stdout",
          "text": [
            "Shape of X [N, C, H, W]: torch.Size([64, 1, 28, 28])\n",
            "Shape of y: torch.Size([64]), torch.int64\n"
          ]
        }
      ]
    },
    {
      "cell_type": "markdown",
      "metadata": {
        "id": "IeoxZqnOtHW2"
      },
      "source": [
        "Read more about [loading data in PyTorch](data_tutorial.html).\n"
      ]
    },
    {
      "cell_type": "markdown",
      "metadata": {
        "id": "Lo-F2wHbtHW2"
      },
      "source": [
        "------------------------------------------------------------------------\n"
      ]
    },
    {
      "cell_type": "markdown",
      "metadata": {
        "id": "kj9pZYfctHW2"
      },
      "source": [
        "Creating Models\n",
        "===============\n",
        "\n",
        "To define a neural network in PyTorch, we create a class that inherits\n",
        "from\n",
        "[nn.Module](https://pytorch.org/docs/stable/generated/torch.nn.Module.html).\n",
        "We define the layers of the network in the `__init__` function and\n",
        "specify how data will pass through the network in the `forward`\n",
        "function. To accelerate operations in the neural network, we move it to\n",
        "the\n",
        "[accelerator](https://pytorch.org/docs/stable/torch.html#accelerators)\n",
        "such as CUDA, MPS, MTIA, or XPU. If the current accelerator is\n",
        "available, we will use it. Otherwise, we use the CPU.\n"
      ]
    },
    {
      "cell_type": "code",
      "source": [
        "device = torch.accelerator.current_accelerator().type if torch.accelerator.is_available() else \"cpu\"\n",
        "print(f\"Using {device} device\")\n",
        "\n",
        "# define the model\n",
        "class NeuralNetwork(nn.Module):\n",
        "  def __init__(self):\n",
        "    super().__init__() # 继承父类的功能和属性\n",
        "    self.flatten = nn.Flatten()\n",
        "    self.linear_relu_stack = nn.Sequential(\n",
        "        nn.Linear(28*28, 512),\n",
        "        nn.ReLU(),\n",
        "        nn.Linear(512, 512),\n",
        "        nn.ReLU(),\n",
        "        nn.Linear(512, 10)\n",
        "    )\n",
        "\n",
        "  def forward(self, x):\n",
        "    x = self.flatten(x)\n",
        "    logits = self.linear_relu_stack(x)\n",
        "    return logits\n",
        "\n",
        "model = NeuralNetwork().to(device)\n",
        "print(model)"
      ],
      "metadata": {
        "colab": {
          "base_uri": "https://localhost:8080/"
        },
        "id": "RM2-ZowZCojQ",
        "outputId": "7b03fb0e-ad43-4ba0-a869-da092061ec0c"
      },
      "execution_count": 14,
      "outputs": [
        {
          "output_type": "stream",
          "name": "stdout",
          "text": [
            "Using cuda device\n",
            "NeuralNetwork(\n",
            "  (flatten): Flatten(start_dim=1, end_dim=-1)\n",
            "  (linear_relu_stack): Sequential(\n",
            "    (0): Linear(in_features=784, out_features=512, bias=True)\n",
            "    (1): ReLU()\n",
            "    (2): Linear(in_features=512, out_features=512, bias=True)\n",
            "    (3): ReLU()\n",
            "    (4): Linear(in_features=512, out_features=10, bias=True)\n",
            "  )\n",
            ")\n"
          ]
        }
      ]
    },
    {
      "cell_type": "markdown",
      "metadata": {
        "id": "6b9DBEuRtHW3"
      },
      "source": [
        "Read more about [building neural networks in\n",
        "PyTorch](buildmodel_tutorial.html).\n"
      ]
    },
    {
      "cell_type": "markdown",
      "metadata": {
        "id": "f8Yt0NdltHW3"
      },
      "source": [
        "------------------------------------------------------------------------\n"
      ]
    },
    {
      "cell_type": "markdown",
      "metadata": {
        "id": "Z4CZhppmtHW3"
      },
      "source": [
        "Optimizing the Model Parameters\n",
        "===============================\n",
        "\n",
        "To train a model, we need a [loss\n",
        "function](https://pytorch.org/docs/stable/nn.html#loss-functions) and an\n",
        "[optimizer](https://pytorch.org/docs/stable/optim.html).\n"
      ]
    },
    {
      "cell_type": "code",
      "source": [
        "loss_fn = nn.CrossEntropyLoss()\n",
        "optimizer = torch.optim.SGD(model.parameters(), lr=1e-3)"
      ],
      "metadata": {
        "id": "8VB8l9FMZuec"
      },
      "execution_count": 15,
      "outputs": []
    },
    {
      "cell_type": "markdown",
      "metadata": {
        "id": "9Zw5vQoYtHW3"
      },
      "source": [
        "In a single training loop, the model makes predictions on the training\n",
        "dataset (fed to it in batches), and backpropagates the prediction error\n",
        "to adjust the model\\'s parameters.\n"
      ]
    },
    {
      "cell_type": "code",
      "source": [
        "def train(dataloader, model, loss_fn, optimzer):\n",
        "  size = len(dataloader.dataset)\n",
        "  model.train()\n",
        "  for batch, (X, y) in enumerate(dataloader):\n",
        "    X, y = X.to(device), y.to(device)\n",
        "\n",
        "    # Compute prediction error\n",
        "    pred = model(X)\n",
        "    loss = loss_fn(pred, y)\n",
        "\n",
        "    # Backpropagation\n",
        "    loss.backward()\n",
        "    optimzer.step()\n",
        "    optimzer.zero_grad()\n",
        "\n",
        "    if batch % 100 == 0:\n",
        "      loss, current = loss.item(), (batch + 1) * len(X)\n",
        "      print(f\"loss: {loss:>7f} [{current:>5d}/{size:>5d}]\")"
      ],
      "metadata": {
        "id": "88JRzZ6waLnZ"
      },
      "execution_count": 16,
      "outputs": []
    },
    {
      "cell_type": "markdown",
      "metadata": {
        "id": "0evDpxR8tHW3"
      },
      "source": [
        "We also check the model\\'s performance against the test dataset to\n",
        "ensure it is learning.\n"
      ]
    },
    {
      "cell_type": "code",
      "source": [
        "def test(dataloader, model, loss_fn):\n",
        "  size = len(dataloader.dataset)\n",
        "  num_batches = len(dataloader)\n",
        "  model.eval()\n",
        "  test_loss, correct = 0, 0\n",
        "  with torch.no_grad():\n",
        "    for X, y in dataloader:\n",
        "      X, y = X.to(device), y.to(device)\n",
        "      pred = model(X)\n",
        "      test_loss += loss_fn(pred, y).item()\n",
        "      correct += (pred.argmax(1) == y).type(torch.float).sum().item()\n",
        "  test_loss /= num_batches\n",
        "  correct /= size\n",
        "  print(f\"Test Error: \\n Accuracy: {(100*correct):>0.1f}%, Avg loss: {test_loss:>8f} \\n\")"
      ],
      "metadata": {
        "id": "ZNqZH7nHbe_f"
      },
      "execution_count": 17,
      "outputs": []
    },
    {
      "cell_type": "markdown",
      "metadata": {
        "id": "0WdyvCqDtHW3"
      },
      "source": [
        "The training process is conducted over several iterations (*epochs*).\n",
        "During each epoch, the model learns parameters to make better\n",
        "predictions. We print the model\\'s accuracy and loss at each epoch;\n",
        "we\\'d like to see the accuracy increase and the loss decrease with every\n",
        "epoch.\n"
      ]
    },
    {
      "cell_type": "code",
      "source": [
        "epochs = 30\n",
        "for t in range(epochs):\n",
        "  print(f\"Epoch {t+1}\\n--------------------------------\")\n",
        "  train(train_dataloader, model, loss_fn, optimizer)\n",
        "  test(test_dataloader, model, loss_fn)\n",
        "print(\"Done\")\n"
      ],
      "metadata": {
        "id": "E3528hG4caNp",
        "outputId": "eb2b2781-ec9e-4eb1-c65c-a2957767f195",
        "colab": {
          "base_uri": "https://localhost:8080/"
        }
      },
      "execution_count": 18,
      "outputs": [
        {
          "output_type": "stream",
          "name": "stdout",
          "text": [
            "Epoch 1\n",
            "--------------------------------\n",
            "loss: 2.302707 [   64/60000]\n",
            "loss: 2.289384 [ 6464/60000]\n",
            "loss: 2.266851 [12864/60000]\n",
            "loss: 2.261798 [19264/60000]\n",
            "loss: 2.252105 [25664/60000]\n",
            "loss: 2.222075 [32064/60000]\n",
            "loss: 2.221029 [38464/60000]\n",
            "loss: 2.186060 [44864/60000]\n",
            "loss: 2.182425 [51264/60000]\n",
            "loss: 2.160069 [57664/60000]\n",
            "Test Error: \n",
            " Accuracy: 48.2%, Avg loss: 2.144752 \n",
            "\n",
            "Epoch 2\n",
            "--------------------------------\n",
            "loss: 2.158013 [   64/60000]\n",
            "loss: 2.147090 [ 6464/60000]\n",
            "loss: 2.082921 [12864/60000]\n",
            "loss: 2.097392 [19264/60000]\n",
            "loss: 2.053859 [25664/60000]\n",
            "loss: 1.990226 [32064/60000]\n",
            "loss: 2.011942 [38464/60000]\n",
            "loss: 1.932961 [44864/60000]\n",
            "loss: 1.942900 [51264/60000]\n",
            "loss: 1.872083 [57664/60000]\n",
            "Test Error: \n",
            " Accuracy: 56.1%, Avg loss: 1.862148 \n",
            "\n",
            "Epoch 3\n",
            "--------------------------------\n",
            "loss: 1.906822 [   64/60000]\n",
            "loss: 1.868417 [ 6464/60000]\n",
            "loss: 1.745702 [12864/60000]\n",
            "loss: 1.782492 [19264/60000]\n",
            "loss: 1.687836 [25664/60000]\n",
            "loss: 1.641165 [32064/60000]\n",
            "loss: 1.657570 [38464/60000]\n",
            "loss: 1.565606 [44864/60000]\n",
            "loss: 1.596283 [51264/60000]\n",
            "loss: 1.492497 [57664/60000]\n",
            "Test Error: \n",
            " Accuracy: 61.2%, Avg loss: 1.503167 \n",
            "\n",
            "Epoch 4\n",
            "--------------------------------\n",
            "loss: 1.578166 [   64/60000]\n",
            "loss: 1.538530 [ 6464/60000]\n",
            "loss: 1.387621 [12864/60000]\n",
            "loss: 1.455432 [19264/60000]\n",
            "loss: 1.353809 [25664/60000]\n",
            "loss: 1.342353 [32064/60000]\n",
            "loss: 1.353550 [38464/60000]\n",
            "loss: 1.284663 [44864/60000]\n",
            "loss: 1.320477 [51264/60000]\n",
            "loss: 1.223637 [57664/60000]\n",
            "Test Error: \n",
            " Accuracy: 63.8%, Avg loss: 1.244287 \n",
            "\n",
            "Epoch 5\n",
            "--------------------------------\n",
            "loss: 1.322179 [   64/60000]\n",
            "loss: 1.302878 [ 6464/60000]\n",
            "loss: 1.136842 [12864/60000]\n",
            "loss: 1.240002 [19264/60000]\n",
            "loss: 1.130185 [25664/60000]\n",
            "loss: 1.141162 [32064/60000]\n",
            "loss: 1.161267 [38464/60000]\n",
            "loss: 1.105011 [44864/60000]\n",
            "loss: 1.144988 [51264/60000]\n",
            "loss: 1.062644 [57664/60000]\n",
            "Test Error: \n",
            " Accuracy: 65.2%, Avg loss: 1.079487 \n",
            "\n",
            "Epoch 6\n",
            "--------------------------------\n",
            "loss: 1.147808 [   64/60000]\n",
            "loss: 1.150282 [ 6464/60000]\n",
            "loss: 0.967924 [12864/60000]\n",
            "loss: 1.102535 [19264/60000]\n",
            "loss: 0.990473 [25664/60000]\n",
            "loss: 1.004936 [32064/60000]\n",
            "loss: 1.041462 [38464/60000]\n",
            "loss: 0.989439 [44864/60000]\n",
            "loss: 1.031012 [51264/60000]\n",
            "loss: 0.962871 [57664/60000]\n",
            "Test Error: \n",
            " Accuracy: 66.1%, Avg loss: 0.973206 \n",
            "\n",
            "Epoch 7\n",
            "--------------------------------\n",
            "loss: 1.027087 [   64/60000]\n",
            "loss: 1.051964 [ 6464/60000]\n",
            "loss: 0.853190 [12864/60000]\n",
            "loss: 1.011775 [19264/60000]\n",
            "loss: 0.903552 [25664/60000]\n",
            "loss: 0.911031 [32064/60000]\n",
            "loss: 0.964200 [38464/60000]\n",
            "loss: 0.914869 [44864/60000]\n",
            "loss: 0.954050 [51264/60000]\n",
            "loss: 0.897950 [57664/60000]\n",
            "Test Error: \n",
            " Accuracy: 67.1%, Avg loss: 0.902164 \n",
            "\n",
            "Epoch 8\n",
            "--------------------------------\n",
            "loss: 0.940491 [   64/60000]\n",
            "loss: 0.985506 [ 6464/60000]\n",
            "loss: 0.772621 [12864/60000]\n",
            "loss: 0.949476 [19264/60000]\n",
            "loss: 0.847310 [25664/60000]\n",
            "loss: 0.844761 [32064/60000]\n",
            "loss: 0.911104 [38464/60000]\n",
            "loss: 0.865731 [44864/60000]\n",
            "loss: 0.900179 [51264/60000]\n",
            "loss: 0.852778 [57664/60000]\n",
            "Test Error: \n",
            " Accuracy: 68.3%, Avg loss: 0.852155 \n",
            "\n",
            "Epoch 9\n",
            "--------------------------------\n",
            "loss: 0.875272 [   64/60000]\n",
            "loss: 0.937111 [ 6464/60000]\n",
            "loss: 0.713520 [12864/60000]\n",
            "loss: 0.904707 [19264/60000]\n",
            "loss: 0.807965 [25664/60000]\n",
            "loss: 0.796387 [32064/60000]\n",
            "loss: 0.871653 [38464/60000]\n",
            "loss: 0.831774 [44864/60000]\n",
            "loss: 0.860467 [51264/60000]\n",
            "loss: 0.818998 [57664/60000]\n",
            "Test Error: \n",
            " Accuracy: 69.6%, Avg loss: 0.814837 \n",
            "\n",
            "Epoch 10\n",
            "--------------------------------\n",
            "loss: 0.823616 [   64/60000]\n",
            "loss: 0.899193 [ 6464/60000]\n",
            "loss: 0.668255 [12864/60000]\n",
            "loss: 0.871094 [19264/60000]\n",
            "loss: 0.778146 [25664/60000]\n",
            "loss: 0.759510 [32064/60000]\n",
            "loss: 0.840366 [38464/60000]\n",
            "loss: 0.807001 [44864/60000]\n",
            "loss: 0.829987 [51264/60000]\n",
            "loss: 0.792168 [57664/60000]\n",
            "Test Error: \n",
            " Accuracy: 70.8%, Avg loss: 0.785418 \n",
            "\n",
            "Epoch 11\n",
            "--------------------------------\n",
            "loss: 0.781019 [   64/60000]\n",
            "loss: 0.867636 [ 6464/60000]\n",
            "loss: 0.631950 [12864/60000]\n",
            "loss: 0.844687 [19264/60000]\n",
            "loss: 0.754185 [25664/60000]\n",
            "loss: 0.730560 [32064/60000]\n",
            "loss: 0.814048 [38464/60000]\n",
            "loss: 0.787521 [44864/60000]\n",
            "loss: 0.805484 [51264/60000]\n",
            "loss: 0.769785 [57664/60000]\n",
            "Test Error: \n",
            " Accuracy: 72.0%, Avg loss: 0.761034 \n",
            "\n",
            "Epoch 12\n",
            "--------------------------------\n",
            "loss: 0.744727 [   64/60000]\n",
            "loss: 0.840034 [ 6464/60000]\n",
            "loss: 0.601670 [12864/60000]\n",
            "loss: 0.822797 [19264/60000]\n",
            "loss: 0.733868 [25664/60000]\n",
            "loss: 0.707090 [32064/60000]\n",
            "loss: 0.790743 [38464/60000]\n",
            "loss: 0.771280 [44864/60000]\n",
            "loss: 0.784988 [51264/60000]\n",
            "loss: 0.750372 [57664/60000]\n",
            "Test Error: \n",
            " Accuracy: 73.2%, Avg loss: 0.739949 \n",
            "\n",
            "Epoch 13\n",
            "--------------------------------\n",
            "loss: 0.713044 [   64/60000]\n",
            "loss: 0.815144 [ 6464/60000]\n",
            "loss: 0.575832 [12864/60000]\n",
            "loss: 0.803976 [19264/60000]\n",
            "loss: 0.716064 [25664/60000]\n",
            "loss: 0.687535 [32064/60000]\n",
            "loss: 0.769375 [38464/60000]\n",
            "loss: 0.757008 [44864/60000]\n",
            "loss: 0.767201 [51264/60000]\n",
            "loss: 0.733017 [57664/60000]\n",
            "Test Error: \n",
            " Accuracy: 74.0%, Avg loss: 0.721145 \n",
            "\n",
            "Epoch 14\n",
            "--------------------------------\n",
            "loss: 0.684871 [   64/60000]\n",
            "loss: 0.792419 [ 6464/60000]\n",
            "loss: 0.553309 [12864/60000]\n",
            "loss: 0.787312 [19264/60000]\n",
            "loss: 0.700209 [25664/60000]\n",
            "loss: 0.670829 [32064/60000]\n",
            "loss: 0.749447 [38464/60000]\n",
            "loss: 0.744125 [44864/60000]\n",
            "loss: 0.751560 [51264/60000]\n",
            "loss: 0.717260 [57664/60000]\n",
            "Test Error: \n",
            " Accuracy: 74.9%, Avg loss: 0.704060 \n",
            "\n",
            "Epoch 15\n",
            "--------------------------------\n",
            "loss: 0.659516 [   64/60000]\n",
            "loss: 0.771446 [ 6464/60000]\n",
            "loss: 0.533350 [12864/60000]\n",
            "loss: 0.772223 [19264/60000]\n",
            "loss: 0.685873 [25664/60000]\n",
            "loss: 0.656245 [32064/60000]\n",
            "loss: 0.730714 [38464/60000]\n",
            "loss: 0.732327 [44864/60000]\n",
            "loss: 0.737602 [51264/60000]\n",
            "loss: 0.702740 [57664/60000]\n",
            "Test Error: \n",
            " Accuracy: 75.5%, Avg loss: 0.688370 \n",
            "\n",
            "Epoch 16\n",
            "--------------------------------\n",
            "loss: 0.636555 [   64/60000]\n",
            "loss: 0.752048 [ 6464/60000]\n",
            "loss: 0.515473 [12864/60000]\n",
            "loss: 0.758378 [19264/60000]\n",
            "loss: 0.672966 [25664/60000]\n",
            "loss: 0.643346 [32064/60000]\n",
            "loss: 0.713013 [38464/60000]\n",
            "loss: 0.721459 [44864/60000]\n",
            "loss: 0.725055 [51264/60000]\n",
            "loss: 0.689266 [57664/60000]\n",
            "Test Error: \n",
            " Accuracy: 76.2%, Avg loss: 0.673865 \n",
            "\n",
            "Epoch 17\n",
            "--------------------------------\n",
            "loss: 0.615772 [   64/60000]\n",
            "loss: 0.734136 [ 6464/60000]\n",
            "loss: 0.499387 [12864/60000]\n",
            "loss: 0.745551 [19264/60000]\n",
            "loss: 0.661358 [25664/60000]\n",
            "loss: 0.631903 [32064/60000]\n",
            "loss: 0.696440 [38464/60000]\n",
            "loss: 0.711641 [44864/60000]\n",
            "loss: 0.713862 [51264/60000]\n",
            "loss: 0.676761 [57664/60000]\n",
            "Test Error: \n",
            " Accuracy: 76.8%, Avg loss: 0.660421 \n",
            "\n",
            "Epoch 18\n",
            "--------------------------------\n",
            "loss: 0.596788 [   64/60000]\n",
            "loss: 0.717540 [ 6464/60000]\n",
            "loss: 0.484875 [12864/60000]\n",
            "loss: 0.733577 [19264/60000]\n",
            "loss: 0.650809 [25664/60000]\n",
            "loss: 0.621763 [32064/60000]\n",
            "loss: 0.680880 [38464/60000]\n",
            "loss: 0.702810 [44864/60000]\n",
            "loss: 0.703932 [51264/60000]\n",
            "loss: 0.664995 [57664/60000]\n",
            "Test Error: \n",
            " Accuracy: 77.4%, Avg loss: 0.647959 \n",
            "\n",
            "Epoch 19\n",
            "--------------------------------\n",
            "loss: 0.579455 [   64/60000]\n",
            "loss: 0.702082 [ 6464/60000]\n",
            "loss: 0.471702 [12864/60000]\n",
            "loss: 0.722286 [19264/60000]\n",
            "loss: 0.641161 [25664/60000]\n",
            "loss: 0.612698 [32064/60000]\n",
            "loss: 0.666309 [38464/60000]\n",
            "loss: 0.695027 [44864/60000]\n",
            "loss: 0.695025 [51264/60000]\n",
            "loss: 0.653906 [57664/60000]\n",
            "Test Error: \n",
            " Accuracy: 77.6%, Avg loss: 0.636400 \n",
            "\n",
            "Epoch 20\n",
            "--------------------------------\n",
            "loss: 0.563593 [   64/60000]\n",
            "loss: 0.687716 [ 6464/60000]\n",
            "loss: 0.459745 [12864/60000]\n",
            "loss: 0.711651 [19264/60000]\n",
            "loss: 0.632399 [25664/60000]\n",
            "loss: 0.604540 [32064/60000]\n",
            "loss: 0.652637 [38464/60000]\n",
            "loss: 0.688150 [44864/60000]\n",
            "loss: 0.687074 [51264/60000]\n",
            "loss: 0.643493 [57664/60000]\n",
            "Test Error: \n",
            " Accuracy: 78.1%, Avg loss: 0.625685 \n",
            "\n",
            "Epoch 21\n",
            "--------------------------------\n",
            "loss: 0.549040 [   64/60000]\n",
            "loss: 0.674405 [ 6464/60000]\n",
            "loss: 0.448779 [12864/60000]\n",
            "loss: 0.701577 [19264/60000]\n",
            "loss: 0.624363 [25664/60000]\n",
            "loss: 0.597144 [32064/60000]\n",
            "loss: 0.639913 [38464/60000]\n",
            "loss: 0.682216 [44864/60000]\n",
            "loss: 0.680124 [51264/60000]\n",
            "loss: 0.633612 [57664/60000]\n",
            "Test Error: \n",
            " Accuracy: 78.6%, Avg loss: 0.615758 \n",
            "\n",
            "Epoch 22\n",
            "--------------------------------\n",
            "loss: 0.535608 [   64/60000]\n",
            "loss: 0.661995 [ 6464/60000]\n",
            "loss: 0.438692 [12864/60000]\n",
            "loss: 0.692070 [19264/60000]\n",
            "loss: 0.616877 [25664/60000]\n",
            "loss: 0.590400 [32064/60000]\n",
            "loss: 0.628083 [38464/60000]\n",
            "loss: 0.677240 [44864/60000]\n",
            "loss: 0.674079 [51264/60000]\n",
            "loss: 0.624110 [57664/60000]\n",
            "Test Error: \n",
            " Accuracy: 78.9%, Avg loss: 0.606549 \n",
            "\n",
            "Epoch 23\n",
            "--------------------------------\n",
            "loss: 0.523177 [   64/60000]\n",
            "loss: 0.650402 [ 6464/60000]\n",
            "loss: 0.429449 [12864/60000]\n",
            "loss: 0.683118 [19264/60000]\n",
            "loss: 0.609814 [25664/60000]\n",
            "loss: 0.584215 [32064/60000]\n",
            "loss: 0.617041 [38464/60000]\n",
            "loss: 0.673163 [44864/60000]\n",
            "loss: 0.668761 [51264/60000]\n",
            "loss: 0.614973 [57664/60000]\n",
            "Test Error: \n",
            " Accuracy: 79.1%, Avg loss: 0.598004 \n",
            "\n",
            "Epoch 24\n",
            "--------------------------------\n",
            "loss: 0.511632 [   64/60000]\n",
            "loss: 0.639565 [ 6464/60000]\n",
            "loss: 0.420882 [12864/60000]\n",
            "loss: 0.674690 [19264/60000]\n",
            "loss: 0.603094 [25664/60000]\n",
            "loss: 0.578438 [32064/60000]\n",
            "loss: 0.606765 [38464/60000]\n",
            "loss: 0.669885 [44864/60000]\n",
            "loss: 0.663986 [51264/60000]\n",
            "loss: 0.606183 [57664/60000]\n",
            "Test Error: \n",
            " Accuracy: 79.3%, Avg loss: 0.590066 \n",
            "\n",
            "Epoch 25\n",
            "--------------------------------\n",
            "loss: 0.500944 [   64/60000]\n",
            "loss: 0.629469 [ 6464/60000]\n",
            "loss: 0.412879 [12864/60000]\n",
            "loss: 0.666710 [19264/60000]\n",
            "loss: 0.596577 [25664/60000]\n",
            "loss: 0.573029 [32064/60000]\n",
            "loss: 0.597177 [38464/60000]\n",
            "loss: 0.667299 [44864/60000]\n",
            "loss: 0.659818 [51264/60000]\n",
            "loss: 0.597642 [57664/60000]\n",
            "Test Error: \n",
            " Accuracy: 79.7%, Avg loss: 0.582676 \n",
            "\n",
            "Epoch 26\n",
            "--------------------------------\n",
            "loss: 0.490924 [   64/60000]\n",
            "loss: 0.620033 [ 6464/60000]\n",
            "loss: 0.405436 [12864/60000]\n",
            "loss: 0.659079 [19264/60000]\n",
            "loss: 0.590249 [25664/60000]\n",
            "loss: 0.567959 [32064/60000]\n",
            "loss: 0.588250 [38464/60000]\n",
            "loss: 0.665355 [44864/60000]\n",
            "loss: 0.656166 [51264/60000]\n",
            "loss: 0.589285 [57664/60000]\n",
            "Test Error: \n",
            " Accuracy: 80.0%, Avg loss: 0.575789 \n",
            "\n",
            "Epoch 27\n",
            "--------------------------------\n",
            "loss: 0.481508 [   64/60000]\n",
            "loss: 0.611207 [ 6464/60000]\n",
            "loss: 0.398548 [12864/60000]\n",
            "loss: 0.651778 [19264/60000]\n",
            "loss: 0.584037 [25664/60000]\n",
            "loss: 0.563080 [32064/60000]\n",
            "loss: 0.579939 [38464/60000]\n",
            "loss: 0.663969 [44864/60000]\n",
            "loss: 0.652838 [51264/60000]\n",
            "loss: 0.581082 [57664/60000]\n",
            "Test Error: \n",
            " Accuracy: 80.1%, Avg loss: 0.569355 \n",
            "\n",
            "Epoch 28\n",
            "--------------------------------\n",
            "loss: 0.472636 [   64/60000]\n",
            "loss: 0.602954 [ 6464/60000]\n",
            "loss: 0.392159 [12864/60000]\n",
            "loss: 0.644845 [19264/60000]\n",
            "loss: 0.577901 [25664/60000]\n",
            "loss: 0.558242 [32064/60000]\n",
            "loss: 0.572236 [38464/60000]\n",
            "loss: 0.663028 [44864/60000]\n",
            "loss: 0.649708 [51264/60000]\n",
            "loss: 0.573070 [57664/60000]\n",
            "Test Error: \n",
            " Accuracy: 80.3%, Avg loss: 0.563321 \n",
            "\n",
            "Epoch 29\n",
            "--------------------------------\n",
            "loss: 0.464313 [   64/60000]\n",
            "loss: 0.595228 [ 6464/60000]\n",
            "loss: 0.386243 [12864/60000]\n",
            "loss: 0.637958 [19264/60000]\n",
            "loss: 0.571847 [25664/60000]\n",
            "loss: 0.553464 [32064/60000]\n",
            "loss: 0.565050 [38464/60000]\n",
            "loss: 0.662518 [44864/60000]\n",
            "loss: 0.646935 [51264/60000]\n",
            "loss: 0.565283 [57664/60000]\n",
            "Test Error: \n",
            " Accuracy: 80.4%, Avg loss: 0.557676 \n",
            "\n",
            "Epoch 30\n",
            "--------------------------------\n",
            "loss: 0.456263 [   64/60000]\n",
            "loss: 0.587969 [ 6464/60000]\n",
            "loss: 0.380596 [12864/60000]\n",
            "loss: 0.631332 [19264/60000]\n",
            "loss: 0.565871 [25664/60000]\n",
            "loss: 0.548801 [32064/60000]\n",
            "loss: 0.558347 [38464/60000]\n",
            "loss: 0.662284 [44864/60000]\n",
            "loss: 0.644452 [51264/60000]\n",
            "loss: 0.557758 [57664/60000]\n",
            "Test Error: \n",
            " Accuracy: 80.6%, Avg loss: 0.552400 \n",
            "\n",
            "Done\n"
          ]
        }
      ]
    },
    {
      "cell_type": "markdown",
      "metadata": {
        "id": "67x-q_vItHW3"
      },
      "source": [
        "Read more about [Training your model](optimization_tutorial.html).\n"
      ]
    },
    {
      "cell_type": "markdown",
      "metadata": {
        "id": "Vp5ylaEqtHW3"
      },
      "source": [
        "------------------------------------------------------------------------\n"
      ]
    },
    {
      "cell_type": "markdown",
      "metadata": {
        "id": "5YF3cAwStHW3"
      },
      "source": [
        "Saving Models\n",
        "=============\n",
        "\n",
        "A common way to save a model is to serialize the internal state\n",
        "dictionary (containing the model parameters).\n"
      ]
    },
    {
      "cell_type": "code",
      "execution_count": 19,
      "metadata": {
        "colab": {
          "base_uri": "https://localhost:8080/"
        },
        "id": "FJCxSGoOtHW3",
        "outputId": "2910fd4a-536a-4494-9d4d-f335255fd175"
      },
      "outputs": [
        {
          "output_type": "stream",
          "name": "stdout",
          "text": [
            "Saved PyTorch Model State to model.pth\n"
          ]
        }
      ],
      "source": [
        "torch.save(model.state_dict(), \"model.pth\")\n",
        "print(\"Saved PyTorch Model State to model.pth\")"
      ]
    },
    {
      "cell_type": "markdown",
      "metadata": {
        "id": "_oYwQCO6tHW4"
      },
      "source": [
        "Loading Models\n",
        "==============\n",
        "\n",
        "The process for loading a model includes re-creating the model structure\n",
        "and loading the state dictionary into it.\n"
      ]
    },
    {
      "cell_type": "code",
      "execution_count": 20,
      "metadata": {
        "colab": {
          "base_uri": "https://localhost:8080/"
        },
        "id": "J45BXPvZtHW4",
        "outputId": "9e9af42c-7a6e-46c5-912a-a37ab0418375"
      },
      "outputs": [
        {
          "output_type": "execute_result",
          "data": {
            "text/plain": [
              "<All keys matched successfully>"
            ]
          },
          "metadata": {},
          "execution_count": 20
        }
      ],
      "source": [
        "model = NeuralNetwork().to(device)\n",
        "model.load_state_dict(torch.load(\"model.pth\", weights_only=True))"
      ]
    },
    {
      "cell_type": "markdown",
      "metadata": {
        "id": "ffQumG7etHW4"
      },
      "source": [
        "This model can now be used to make predictions.\n"
      ]
    },
    {
      "cell_type": "code",
      "execution_count": 21,
      "metadata": {
        "colab": {
          "base_uri": "https://localhost:8080/"
        },
        "id": "q3VB7ZvwtHW4",
        "outputId": "d6f0affc-1dd6-43f1-82b4-0166b64aa1a7"
      },
      "outputs": [
        {
          "output_type": "stream",
          "name": "stdout",
          "text": [
            "Predicted: \"Ankle boot\", Actual: \"Ankle boot\"\n"
          ]
        }
      ],
      "source": [
        "classes = [\n",
        "    \"T-shirt/top\",\n",
        "    \"Trouser\",\n",
        "    \"Pullover\",\n",
        "    \"Dress\",\n",
        "    \"Coat\",\n",
        "    \"Sandal\",\n",
        "    \"Shirt\",\n",
        "    \"Sneaker\",\n",
        "    \"Bag\",\n",
        "    \"Ankle boot\",\n",
        "]\n",
        "\n",
        "model.eval()\n",
        "x, y = test_data[0][0], test_data[0][1]\n",
        "with torch.no_grad():\n",
        "    x = x.to(device)\n",
        "    pred = model(x)\n",
        "    predicted, actual = classes[pred[0].argmax(0)], classes[y]\n",
        "    print(f'Predicted: \"{predicted}\", Actual: \"{actual}\"')"
      ]
    },
    {
      "cell_type": "markdown",
      "metadata": {
        "id": "EWbSyyqstHW4"
      },
      "source": [
        "Read more about [Saving & Loading your\n",
        "model](saveloadrun_tutorial.html).\n"
      ]
    },
    {
      "cell_type": "code",
      "source": [
        "pred[0].argmax(0)"
      ],
      "metadata": {
        "id": "NYH2Vw09fsTY",
        "outputId": "d8118484-f6af-469b-b675-2b0ae2da2959",
        "colab": {
          "base_uri": "https://localhost:8080/"
        }
      },
      "execution_count": 25,
      "outputs": [
        {
          "output_type": "execute_result",
          "data": {
            "text/plain": [
              "tensor(9, device='cuda:0')"
            ]
          },
          "metadata": {},
          "execution_count": 25
        }
      ]
    }
  ],
  "metadata": {
    "kernelspec": {
      "display_name": "Python 3",
      "name": "python3"
    },
    "language_info": {
      "codemirror_mode": {
        "name": "ipython",
        "version": 3
      },
      "file_extension": ".py",
      "mimetype": "text/x-python",
      "name": "python",
      "nbconvert_exporter": "python",
      "pygments_lexer": "ipython3",
      "version": "3.10.12"
    },
    "colab": {
      "provenance": [],
      "gpuType": "T4"
    },
    "accelerator": "GPU"
  },
  "nbformat": 4,
  "nbformat_minor": 0
}