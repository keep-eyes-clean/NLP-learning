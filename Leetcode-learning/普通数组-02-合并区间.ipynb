{
 "cells": [
  {
   "cell_type": "code",
   "execution_count": null,
   "metadata": {},
   "outputs": [],
   "source": [
    "class Solution(object):\n",
    "    def merge(self, intervals):\n",
    "        \"\"\"\n",
    "        :type intervals: List[List[int]]\n",
    "        :rtype: List[List[int]]\n",
    "        关键点是这个merged\n",
    "        \"\"\"\n",
    "        # 进行排序\n",
    "        intervals.sort(key=lambda x:x[0])\n",
    "\n",
    "        # 先选取第一个interval\n",
    "        merged = [intervals[0]]\n",
    "\n",
    "        for interval in intervals[1:]:\n",
    "            # 取出当前合并区间内的interval\n",
    "            last_interval = merged[-1]\n",
    "\n",
    "            # 如果当前满足合并条件\n",
    "            if interval[0] <= last_interval[1]:\n",
    "                # 合并，更新last_interval\n",
    "                last_interval[1] = max(last_interval[1], intervals[1])\n",
    "            else:\n",
    "                # 如果不满足条件，则直接将当前的intervals交入merged列表\n",
    "                merged.append(interval)\n",
    "        return merged\n"
   ]
  },
  {
   "cell_type": "code",
   "execution_count": null,
   "metadata": {},
   "outputs": [
    {
     "name": "stdout",
     "output_type": "stream",
     "text": [
      "[[1, 3], [2, 6], [8, 10], [15, 18]]\n"
     ]
    }
   ],
   "source": [
    "intervals = [[1,3],[2,6],[8,10],[15,18]]\n",
    "intervals.sort(key=lambda x: x[0], reverse=False)\n"
   ]
  },
  {
   "cell_type": "code",
   "execution_count": 5,
   "metadata": {},
   "outputs": [
    {
     "data": {
      "text/plain": [
       "[5, 6, 7, 1, 2, 3, 4]"
      ]
     },
     "execution_count": 5,
     "metadata": {},
     "output_type": "execute_result"
    }
   ],
   "source": [
    "class Solution(object):\n",
    "    def rotate(self, nums, k):\n",
    "        # 多次反转\n",
    "        def sub_rotate(start, end):\n",
    "            while start < end:\n",
    "                nums[start], nums[end] = nums[end], nums[start]\n",
    "                start += 1\n",
    "                end -= 1\n",
    "        n = len(nums)\n",
    "        k %= n \n",
    "        if k == 0:\n",
    "            return nums\n",
    "        \n",
    "        # 第一步，反转整个数组\n",
    "        sub_rotate(0,n-1)\n",
    "        # 第二步，反转前k个元素\n",
    "        sub_rotate(0,k-1)\n",
    "        # 第三步，反转后n-k个元素\n",
    "        sub_rotate(k,n-1)\n",
    "\n",
    "        return nums\n",
    "\n",
    "sample = Solution()\n",
    "nums = [1,2,3,4,5,6,7]\n",
    "k = 3\n",
    "sample.rotate(nums,k)"
   ]
  }
 ],
 "metadata": {
  "kernelspec": {
   "display_name": "py10",
   "language": "python",
   "name": "python3"
  },
  "language_info": {
   "codemirror_mode": {
    "name": "ipython",
    "version": 3
   },
   "file_extension": ".py",
   "mimetype": "text/x-python",
   "name": "python",
   "nbconvert_exporter": "python",
   "pygments_lexer": "ipython3",
   "version": "3.10.11"
  }
 },
 "nbformat": 4,
 "nbformat_minor": 2
}
