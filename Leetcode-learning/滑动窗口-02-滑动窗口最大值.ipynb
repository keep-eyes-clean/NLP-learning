{
 "cells": [
  {
   "cell_type": "markdown",
   "metadata": {},
   "source": [
    "# 题目：滑动窗口最大值\n",
    "给你一个整数数组 nums，有一个大小为 k 的滑动窗口从数组的最左侧移动到数组的最右侧。你只可以看到在滑动窗口内的 k 个数字。滑动窗口每次只向右移动一位。\n",
    "\n",
    "返回 滑动窗口中的最大值 。\n",
    "\n",
    "输入：nums = [1,3,-1,-3,5,3,6,7], k = 3\n",
    "输出：[3,3,5,5,6,7]\n",
    "解释：\n",
    "滑动窗口的位置                最大值\n",
    "---------------               -----\n",
    "[1  3  -1] -3  5  3  6  7       3\n",
    "\n",
    " 1 [3  -1  -3] 5  3  6  7       3\n",
    "\n",
    " 1  3 [-1  -3  5] 3  6  7       5\n",
    "\n",
    " 1  3  -1 [-3  5  3] 6  7       5\n",
    "\n",
    " 1  3  -1  -3 [5  3  6] 7       6\n",
    "\n",
    " 1  3  -1  -3  5 [3  6  7]      7"
   ]
  },
  {
   "cell_type": "code",
   "execution_count": null,
   "metadata": {},
   "outputs": [],
   "source": [
    "# version 1\n",
    "# 时间复杂度太高，该如何优化呢\n",
    "class Solution(object):\n",
    "    def maxSlidingWindow(self, nums, k):\n",
    "        \"\"\"\n",
    "        :type nums: List[int]\n",
    "        :type k: int\n",
    "        :rtype: List[int]\n",
    "        \"\"\"\n",
    "        max_window = []\n",
    "        n = len(nums)\n",
    "        for i in range(n-k+1):\n",
    "            max_window.append(max(nums[i:i+k]))\n",
    "        return max_window\n",
    "    "
   ]
  },
  {
   "cell_type": "code",
   "execution_count": null,
   "metadata": {},
   "outputs": [],
   "source": [
    "# version 2\n",
    "# 老奸巨猾，竟然使用分块前缀最大值和分块前缀最小值的方法\n",
    "class Solution(object):\n",
    "    def maxSlidingWindow(self, nums, k):\n",
    "        n = len(nums)\n",
    "        if n==0 or k==0:\n",
    "            return []\n",
    "\n",
    "        # 初始化前缀最大值和后缀最大值数组\n",
    "        left_max = [0]*n\n",
    "        right_max = [0]*n\n",
    "        result = []\n",
    "\n",
    "        # 计算前缀最大值\n",
    "        for i in range(n):\n",
    "            if i % k == 0:\n",
    "                left_max[i] = nums[i]\n",
    "            else:\n",
    "                left_max[i] = max(left_max[i-1],nums[i])\n",
    "        \n",
    "        # 计算后缀最大值\n",
    "        for i in range(n-1, -1, -1):\n",
    "            if i == n - 1 or (i + 1) % k == 0:\n",
    "                right_max[i] = nums[i]\n",
    "            else:\n",
    "                right_max[i] = max(right_max[i+1], nums[i])\n",
    "        \n",
    "        # 计算每个滑动窗口的最大值\n",
    "        for i in range(k - 1, n):\n",
    "            result.append(max(right_max[i - k + 1], left_max[i]))\n",
    "\n",
    "        return result\n",
    "\n"
   ]
  },
  {
   "cell_type": "code",
   "execution_count": 14,
   "metadata": {},
   "outputs": [],
   "source": [
    "# version 3\n",
    "# 使用单调队列"
   ]
  }
 ],
 "metadata": {
  "kernelspec": {
   "display_name": "py10",
   "language": "python",
   "name": "python3"
  },
  "language_info": {
   "codemirror_mode": {
    "name": "ipython",
    "version": 3
   },
   "file_extension": ".py",
   "mimetype": "text/x-python",
   "name": "python",
   "nbconvert_exporter": "python",
   "pygments_lexer": "ipython3",
   "version": "3.10.11"
  }
 },
 "nbformat": 4,
 "nbformat_minor": 2
}
