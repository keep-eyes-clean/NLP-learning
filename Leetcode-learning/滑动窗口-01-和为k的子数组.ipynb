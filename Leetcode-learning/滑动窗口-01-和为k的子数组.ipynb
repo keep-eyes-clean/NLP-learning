{
 "cells": [
  {
   "cell_type": "code",
   "execution_count": 1,
   "metadata": {},
   "outputs": [
    {
     "name": "stdout",
     "output_type": "stream",
     "text": [
      "0 0\n",
      "1 1\n",
      "1 2\n"
     ]
    },
    {
     "data": {
      "text/plain": [
       "0"
      ]
     },
     "execution_count": 1,
     "metadata": {},
     "output_type": "execute_result"
    }
   ],
   "source": [
    "# version 1\n",
    "class Solution(object):\n",
    "    def subarraySum(self, nums, k):\n",
    "        \"\"\"\n",
    "        :type nums: List[int]\n",
    "        :type k: int\n",
    "        :rtype: int\n",
    "        \"\"\"\n",
    "        if len(nums) == 1:\n",
    "            if nums[0] == k:\n",
    "                return 1\n",
    "            else:\n",
    "                return 0\n",
    "            \n",
    "        N = len(nums)\n",
    "        left = 0\n",
    "        right = 0\n",
    "        subs = 0\n",
    "\n",
    "        while right < N:\n",
    "            print(left, right)\n",
    "            if sum(nums[left:right+1]) < k:\n",
    "                if sum(nums[left:right+2]) < sum(nums[left:right+1]):\n",
    "                    # 说明当前移动right没有好处\n",
    "                    # rigth和left一起增大\n",
    "                    left += 1\n",
    "                    right += 1\n",
    "                    continue\n",
    "                else:\n",
    "                    right += 1\n",
    "                    continue\n",
    "            if sum(nums[left:right+1]) > k:\n",
    "                while sum(nums[left:right+1]) > k:\n",
    "                    left += 1\n",
    "                    if sum(nums[left:right+1]) == k:\n",
    "                        right += 1\n",
    "                        subs += 1\n",
    "                        break\n",
    "                continue\n",
    "            if sum(nums[left:right+1]) == k:\n",
    "                right += 1\n",
    "                subs+=1\n",
    "        return subs\n",
    "\n",
    "\n",
    "nums = [-1,-1,1]\n",
    "k = 1\n",
    "sample = Solution()\n",
    "sample.subarraySum(nums,k)"
   ]
  },
  {
   "cell_type": "code",
   "execution_count": null,
   "metadata": {},
   "outputs": [
    {
     "data": {
      "text/plain": [
       "2"
      ]
     },
     "execution_count": 16,
     "metadata": {},
     "output_type": "execute_result"
    }
   ],
   "source": [
    "# version 2\n",
    "class Solution(object):\n",
    "    def subarraySum(self, nums, k):\n",
    "        \"\"\"\n",
    "        :type nums: List[int]\n",
    "        :type k: int\n",
    "        :rtype: int\n",
    "        \"\"\"\n",
    "        if len(nums) == 1:\n",
    "            if nums[0] == k:\n",
    "                return 1\n",
    "            else:\n",
    "                return 0\n",
    "            \n",
    "        N = len(nums)\n",
    "        left = 0\n",
    "        right = 0\n",
    "        subs = 0\n",
    "\n",
    "        # 要维护一个大小动态可变的窗口，窗口为[left,right]，left<=right\n",
    "        # initial window:[0,0]\n",
    "        # 当 sum(window[left:right+1]) == k, 则满足条件, subs+=1 固定left、移动right\n",
    "        # 当 sum(window[left:right+1]) < k, 说明当前window内部的数额还太小，需要继续固定left，移动right\n",
    "            # 如果right == N-1, 那么就不断移动left，直到window内部大小等于N\n",
    "        # 当 sum(window[left:right+1]) > k, 说明当前window内部的数额还太大，需要不断移动left，固定right\n",
    "\n",
    "        while right < N and left < N:\n",
    "            \n",
    "            tmp = sum(nums[left:right+1])\n",
    "            if tmp == k:\n",
    "                subs+=1\n",
    "                right+=1\n",
    "                continue\n",
    "            if tmp < k:\n",
    "                if right < N-1:\n",
    "                    right+=1\n",
    "                    continue\n",
    "                else:\n",
    "                    while sum(nums[left:right+1]) < k and left<=right:\n",
    "                        left+=1\n",
    "                    continue\n",
    "            if tmp > k:\n",
    "                \n",
    "                while sum(nums[left:right+1]) > k and left<=right:\n",
    "                    left+=1\n",
    "        return subs      \n",
    "\n",
    "\n",
    "nums = [1,-1,0]\n",
    "# nums = [1,2,2]\n",
    "k = 0\n",
    "sample = Solution()\n",
    "sample.subarraySum(nums,k)"
   ]
  },
  {
   "cell_type": "code",
   "execution_count": 28,
   "metadata": {},
   "outputs": [
    {
     "name": "stdout",
     "output_type": "stream",
     "text": [
      "0 0\n",
      "0 1\n",
      "0 2\n"
     ]
    },
    {
     "data": {
      "text/plain": [
       "2"
      ]
     },
     "execution_count": 28,
     "metadata": {},
     "output_type": "execute_result"
    }
   ],
   "source": [
    "# version 3\n",
    "class Solution(object):\n",
    "    def subarraySum(self, nums, k):\n",
    "        \"\"\"\n",
    "        :type nums: List[int]\n",
    "        :type k: int\n",
    "        :rtype: int\n",
    "        \"\"\"\n",
    "        if len(nums) == 1:\n",
    "            if nums[0] == k:\n",
    "                return 1\n",
    "            else:\n",
    "                return 0\n",
    "            \n",
    "        N = len(nums)\n",
    "        left = 0\n",
    "        right = 0\n",
    "        subs = 0\n",
    "\n",
    "        while right < N and left < N:\n",
    "            print(left, right)\n",
    "            tmp = sum(nums[left:right+1])\n",
    "            if tmp == k:\n",
    "                subs+=1\n",
    "                right+=1\n",
    "                continue\n",
    "            if tmp < k:\n",
    "                if right < N-1:\n",
    "                    right+=1\n",
    "                    continue\n",
    "                else:\n",
    "                    while sum(nums[left:right+1]) < k and left<=right:\n",
    "                        left+=1\n",
    "                    continue\n",
    "            if tmp > k:\n",
    "                if left == right:\n",
    "                    right += 1\n",
    "                else:\n",
    "                    while sum(nums[left:right+1]) > k and left<=right:\n",
    "                        left+=1\n",
    "                    \n",
    "        return subs        \n",
    "\n",
    "# 为何会无法关注到最后一个0的呢，left=2，right=2\n",
    "nums = [1,-1,0]\n",
    "# nums = [1,2,2]\n",
    "k = 0\n",
    "sample = Solution()\n",
    "sample.subarraySum(nums,k)"
   ]
  },
  {
   "cell_type": "code",
   "execution_count": null,
   "metadata": {},
   "outputs": [
    {
     "name": "stdout",
     "output_type": "stream",
     "text": [
      "0 0 100\n",
      "0 1 101\n",
      "1 1 1\n",
      "1 2 3\n",
      "1 3 6\n",
      "2 3 5\n",
      "3 3 3\n",
      "3 4 103\n",
      "4 4 100\n",
      "4 5 101\n",
      "5 5 1\n",
      "5 6 3\n",
      "5 7 6\n",
      "6 7 5\n",
      "7 7 3\n",
      "7 8 7\n",
      "8 8 4\n"
     ]
    },
    {
     "data": {
      "text/plain": [
       "4"
      ]
     },
     "execution_count": 44,
     "metadata": {},
     "output_type": "execute_result"
    }
   ],
   "source": [
    "# version 4\n",
    "class Solution(object):\n",
    "    def subarraySum(self, nums, k):\n",
    "        \"\"\"\n",
    "        :type nums: List[int]\n",
    "        :type k: int\n",
    "        :rtype: int\n",
    "        \"\"\"\n",
    "        if len(nums) == 1:\n",
    "            if nums[0] == k:\n",
    "                return 1\n",
    "            else:\n",
    "                return 0\n",
    "        if min(nums) > k:\n",
    "            return 0\n",
    "        if sum(nums) == k:\n",
    "            return 1\n",
    "\n",
    "        N = len(nums)\n",
    "        left = 0\n",
    "        right = 0\n",
    "        subs = 0\n",
    "\n",
    "        # 还是使用while条件判断\n",
    "        # 本质上是在维护大小动态变化的窗口，窗口大小变化依赖窗口的左右边界: left, right\n",
    "        # 窗口大小变化的依据如下：\n",
    "            # 当 time=0， left=right=0\n",
    "            # 计算时间t，tmp = sum(nums[left:right+1])\n",
    "            # 如果当前的tmp == k，有以下几个情况：\n",
    "                # left == right == 0，移动right\n",
    "                # left == right == N-1，left=right=N，超出条件，跳出循环\n",
    "                # left < right，移动right\n",
    "                    # 如果 right == N-1, 移动left\n",
    "                    # 如果 right != N-1, 移动right\n",
    "            # 如果当前的tmp != k, 有以下几个情况：\n",
    "                # left == right == 0, 移动right\n",
    "                # left == right == N-1, left=right=N, 超出条件，跳出循环\n",
    "                # left < right, \n",
    "                    # 如果当前的tmp > k:\n",
    "                        # 那么就移动left\n",
    "                    # 如果当前的tmp < k:\n",
    "\n",
    "        while left < N or right < N:\n",
    "            tmp = sum(nums[left:right+1])\n",
    "            print(left, right, tmp)\n",
    "            if tmp == k:\n",
    "                subs += 1\n",
    "                if left == 0 and right == 0:\n",
    "                    right += 1\n",
    "                    continue\n",
    "                if left == N-1 and right == N-1:\n",
    "                    left += 1\n",
    "                    right += 1\n",
    "                    continue\n",
    "                if left <= right:\n",
    "                    if right == N-1:\n",
    "                        left += 1\n",
    "                    else:\n",
    "                        right += 1\n",
    "                    continue\n",
    "            else:\n",
    "                if left == 0 and right == 0:\n",
    "                    right += 1\n",
    "                    continue\n",
    "                if left == N-1 and right == N-1:\n",
    "                    left += 1\n",
    "                    right += 1\n",
    "                    continue\n",
    "                if left <= right:\n",
    "                    if right == N-1:\n",
    "                        left += 1\n",
    "                    else:\n",
    "                        if left == right:\n",
    "                            right += 1\n",
    "                        else:\n",
    "                            if tmp < k:\n",
    "                                right += 1\n",
    "                            else:\n",
    "                                left += 1\n",
    "                    continue\n",
    "        return subs\n",
    "\n",
    "# 为何会无法关注到最后一个0的呢，left=2，right=2\n",
    "nums = [100,1,2,3,100,1,2,3,4]\n",
    "# nums = [1,2,3]\n",
    "k = 3\n",
    "sample = Solution()\n",
    "sample.subarraySum(nums,k)"
   ]
  },
  {
   "cell_type": "code",
   "execution_count": 58,
   "metadata": {},
   "outputs": [
    {
     "name": "stdout",
     "output_type": "stream",
     "text": [
      "97\n",
      "{0: 1, 100: 1}\n",
      "\n",
      "98\n",
      "{0: 1, 100: 1, 101: 1}\n",
      "\n",
      "100\n",
      "{0: 1, 100: 1, 101: 1, 103: 1}\n",
      "\n",
      "103\n",
      "{0: 1, 100: 1, 101: 1, 103: 1, 106: 1}\n",
      "\n",
      "203\n",
      "{0: 1, 100: 1, 101: 1, 103: 1, 106: 1, 206: 1}\n",
      "\n",
      "204\n",
      "{0: 1, 100: 1, 101: 1, 103: 1, 106: 1, 206: 1, 207: 1}\n",
      "\n",
      "206\n",
      "{0: 1, 100: 1, 101: 1, 103: 1, 106: 1, 206: 1, 207: 1, 209: 1}\n",
      "\n",
      "209\n",
      "{0: 1, 100: 1, 101: 1, 103: 1, 106: 1, 206: 1, 207: 1, 209: 1, 212: 1}\n",
      "\n",
      "213\n",
      "{0: 1, 100: 1, 101: 1, 103: 1, 106: 1, 206: 1, 207: 1, 209: 1, 212: 1, 216: 1}\n",
      "\n"
     ]
    },
    {
     "data": {
      "text/plain": [
       "4"
      ]
     },
     "execution_count": 58,
     "metadata": {},
     "output_type": "execute_result"
    }
   ],
   "source": [
    "class Solution(object):\n",
    "    def subarraySum(self, nums, k):\n",
    "        count = 0\n",
    "        prefix_sum = 0\n",
    "        hash_map = {0: 1}  # 初始化哈希表\n",
    "\n",
    "        for num in nums:\n",
    "            # 更新前缀和\n",
    "            prefix_sum += num\n",
    "            \n",
    "            # 检查是否存在 prefix_sum - k\n",
    "            print(prefix_sum - k)\n",
    "            if (prefix_sum - k) in hash_map:\n",
    "                count += hash_map[prefix_sum - k]\n",
    "            \n",
    "            # 更新哈希表\n",
    "            if prefix_sum in hash_map:\n",
    "                hash_map[prefix_sum] += 1\n",
    "            else:\n",
    "                hash_map[prefix_sum] = 1\n",
    "            print(hash_map)\n",
    "            print(\"\")\n",
    "        return count\n",
    "\n",
    "nums = [100,1,2,3,100,1,2,3,4]\n",
    "# nums = [1,2,3]\n",
    "k = 3\n",
    "sample = Solution()\n",
    "sample.subarraySum(nums,k)"
   ]
  },
  {
   "cell_type": "code",
   "execution_count": null,
   "metadata": {},
   "outputs": [
    {
     "data": {
      "text/plain": [
       "[1]"
      ]
     },
     "execution_count": 65,
     "metadata": {},
     "output_type": "execute_result"
    }
   ],
   "source": [
    "# version 1: 时间复杂度过高\n",
    "class Solution(object):\n",
    "    def maxSlidingWindow(self, nums, k):\n",
    "        \"\"\"\n",
    "        :type nums: List[int]\n",
    "        :type k: int\n",
    "        :rtype: List[int]\n",
    "        \"\"\"\n",
    "        max_window = []\n",
    "        n = len(nums)\n",
    "        for i in range(n-k+1):\n",
    "            max_window.append(max(nums[i:i+k]))\n",
    "        return max_window\n",
    "\n",
    "\n",
    "nums = [1]\n",
    "k = 1\n",
    "sample = Solution()\n",
    "sample.maxSlidingWindow(nums,k)"
   ]
  }
 ],
 "metadata": {
  "kernelspec": {
   "display_name": "py10",
   "language": "python",
   "name": "python3"
  },
  "language_info": {
   "codemirror_mode": {
    "name": "ipython",
    "version": 3
   },
   "file_extension": ".py",
   "mimetype": "text/x-python",
   "name": "python",
   "nbconvert_exporter": "python",
   "pygments_lexer": "ipython3",
   "version": "3.10.11"
  }
 },
 "nbformat": 4,
 "nbformat_minor": 2
}
