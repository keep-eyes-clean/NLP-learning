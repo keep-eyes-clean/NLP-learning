{
 "cells": [
  {
   "cell_type": "markdown",
   "metadata": {},
   "source": [
    "# 题目描述：三数之和\n",
    "给你一个整数数组 nums \n",
    "判断是否存在三元组 [nums[i], nums[j], nums[k]] 满足 i != j、i != k 且 j != k ，同时还满足 nums[i] + nums[j] + nums[k] == 0 。请你返回所有和为 0 且不重复的三元组。\n",
    "\n",
    "注意：答案中不可以包含重复的三元组。\n",
    "\n",
    "## 实例：\n",
    "```bash\n",
    "输入：nums = [-1,0,1,2,-1,-4]\n",
    "输出：[[-1,-1,2],[-1,0,1]]\n",
    "解释：\n",
    "nums[0] + nums[1] + nums[2] = (-1) + 0 + 1 = 0 。\n",
    "nums[1] + nums[2] + nums[4] = 0 + 1 + (-1) = 0 。\n",
    "nums[0] + nums[3] + nums[4] = (-1) + 2 + (-1) = 0 。\n",
    "不同的三元组是 [-1,0,1] 和 [-1,-1,2] 。\n",
    "注意，输出的顺序和三元组的顺序并不重要。\n",
    "```\n",
    "\n",
    "```bash\n",
    "输入：nums = [0,1,1]\n",
    "输出：[]\n",
    "解释：唯一可能的三元组和不为 0 。\n",
    "```\n",
    "\n",
    "```bash\n",
    "输入：nums = [0,0,0]\n",
    "输出：[[0,0,0]]\n",
    "解释：唯一可能的三元组和为 0 。\n",
    "```"
   ]
  },
  {
   "cell_type": "code",
   "execution_count": 16,
   "metadata": {},
   "outputs": [
    {
     "name": "stdout",
     "output_type": "stream",
     "text": [
      "0\n",
      "1\n",
      "5\n",
      "-3\n",
      "\n",
      "0\n",
      "2\n",
      "5\n",
      "-3\n",
      "\n",
      "0\n",
      "3\n",
      "5\n",
      "-2\n",
      "\n",
      "0\n",
      "4\n",
      "5\n",
      "-1\n",
      "\n",
      "1\n",
      "2\n",
      "5\n",
      "0\n",
      "\n",
      "1\n",
      "3\n",
      "4\n",
      "0\n",
      "\n",
      "3\n",
      "4\n",
      "5\n",
      "3\n",
      "\n"
     ]
    },
    {
     "data": {
      "text/plain": [
       "[[-1, -1, 2], [-1, 0, 1]]"
      ]
     },
     "execution_count": 16,
     "metadata": {},
     "output_type": "execute_result"
    }
   ],
   "source": [
    "nums = [-1,0,1,2,-1,-4]\n",
    "nums = sorted(nums)\n",
    "n = len(nums)\n",
    "result = []\n",
    "\n",
    "for i in range(n):\n",
    "    if nums[i] > 0:\n",
    "        break\n",
    "\n",
    "    # 跳过重复的数字,只有在经过排序才可以实现的\n",
    "    if i > 0 and nums[i] == nums[i-1]:\n",
    "        continue\n",
    "\n",
    "    # 剩下的数字使用双链表来进行移动查找\n",
    "    left ,right = i+1, n-1\n",
    "    while left < right:\n",
    "        print(i)\n",
    "        print(left)\n",
    "        print(right)\n",
    "        \n",
    "        total = nums[i] + nums[left] + nums[right]\n",
    "        print(total)\n",
    "        print(\"\")\n",
    "        if total == 0:\n",
    "            result.append([nums[i],nums[left],nums[right]])\n",
    "\n",
    "            # 移动左指针并跳过重复的数\n",
    "            while left<right and nums[left] == nums[left+1]:\n",
    "                print(\"left\")\n",
    "                left += 1\n",
    "            while left<right and nums[right] == nums[right-1]:\n",
    "                print(\"right\")\n",
    "                right -= 1\n",
    "            \n",
    "            # 移动左右指针\n",
    "            left += 1\n",
    "            right -= 1\n",
    "        \n",
    "        if total < 0:\n",
    "            left += 1 # 需要更大的数字\n",
    "        \n",
    "        if total > 0:\n",
    "            right -= 1 # 需要更小的数字\n",
    "\n",
    "result"
   ]
  },
  {
   "cell_type": "markdown",
   "metadata": {},
   "source": [
    "这个难度真的很大，真的非常大\n",
    "困难的核心是理解双链表的追求：追求数值或者追求某些条件的话，进行双链表的方法就是获得排序，一定是有移动方向的，要么是一直变大，要么是一直变小，一定要找到这个方向"
   ]
  },
  {
   "cell_type": "code",
   "execution_count": 5,
   "metadata": {},
   "outputs": [
    {
     "data": {
      "text/plain": [
       "[-4, -1, -1, 0, 1, 2]"
      ]
     },
     "execution_count": 5,
     "metadata": {},
     "output_type": "execute_result"
    }
   ],
   "source": [
    "nums"
   ]
  }
 ],
 "metadata": {
  "kernelspec": {
   "display_name": "py10",
   "language": "python",
   "name": "python3"
  },
  "language_info": {
   "codemirror_mode": {
    "name": "ipython",
    "version": 3
   },
   "file_extension": ".py",
   "mimetype": "text/x-python",
   "name": "python",
   "nbconvert_exporter": "python",
   "pygments_lexer": "ipython3",
   "version": "3.10.11"
  }
 },
 "nbformat": 4,
 "nbformat_minor": 2
}
