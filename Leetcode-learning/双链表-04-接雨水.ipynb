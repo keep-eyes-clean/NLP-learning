{
 "cells": [
  {
   "cell_type": "code",
   "execution_count": null,
   "metadata": {},
   "outputs": [
    {
     "name": "stdout",
     "output_type": "stream",
     "text": [
      "1 3 0\n",
      "3 7 2\n"
     ]
    },
    {
     "data": {
      "text/plain": [
       "2"
      ]
     },
     "execution_count": 3,
     "metadata": {},
     "output_type": "execute_result"
    }
   ],
   "source": [
    "class Solution(object):\n",
    "    def trap(self, height):\n",
    "        i = 0\n",
    "        j = 1\n",
    "        volume = 0\n",
    "        while j < len(height):\n",
    "            if height[i] <= height[j]:\n",
    "                if i == 0:\n",
    "                    i = j\n",
    "                    j = j+1\n",
    "                    continue\n",
    "                else:\n",
    "                    \n",
    "                    print(i,j,volume)\n",
    "                    i = j\n",
    "                    j = j+1\n",
    "            else:\n",
    "                j+=1\n",
    "        \n",
    "        return volume\n",
    "\n",
    "height = [0,1,0,2,1,0,1,3,2,1,2,1]\n",
    "sample = Solution()\n",
    "sample.trap(height)"
   ]
  },
  {
   "cell_type": "code",
   "execution_count": 10,
   "metadata": {},
   "outputs": [
    {
     "name": "stdout",
     "output_type": "stream",
     "text": [
      "leftMax\n",
      "[0, 1, 1, 2, 2, 2, 2, 3, 3, 3, 3, 3]\n",
      "\n",
      "rightMax\n",
      "[3, 3, 3, 3, 3, 3, 3, 3, 2, 2, 2, 1]\n",
      "\n",
      "min(leftMax, rightMax)\n",
      "[0, 1, 1, 2, 2, 2, 2, 3, 2, 2, 2, 1]\n",
      "\n",
      "min(leftMax, rightMax) - height\n",
      "[0, 0, 1, 0, 1, 2, 1, 0, 0, 1, 0, 0]\n"
     ]
    }
   ],
   "source": [
    "# version2-动态规划\n",
    "# 动态规划的方法是真聪明\n",
    "\n",
    "height = [0,1,0,2,1,0,1,3,2,1,2,1]\n",
    "\n",
    "n = len(height)\n",
    "leftMax = [0]*n\n",
    "rightMax = [0]*n\n",
    "\n",
    "# leftMax数组\n",
    "leftMax[0] = height[0]\n",
    "for i in range(1, n):\n",
    "    leftMax[i] = max(leftMax[i-1], height[i])\n",
    "\n",
    "rightMax[n-1] = height[n-1]\n",
    "for i in range(n-2, -1, -1):\n",
    "    rightMax[i] = max(rightMax[i+1],height[i])\n",
    "\n",
    "water = 0\n",
    "for i in range(n):\n",
    "    water += min(leftMax[i], rightMax[i]) - height[i]\n",
    "    \n",
    "print(\"leftMax\")\n",
    "print(leftMax)\n",
    "print(\"\")\n",
    "print(\"rightMax\")\n",
    "print(rightMax)\n",
    "print(\"\")\n",
    "print(\"min(leftMax, rightMax)\")\n",
    "print([min(leftMax[i],rightMax[i]) for i in range(len(height))])\n",
    "print(\"\")\n",
    "print(\"min(leftMax, rightMax) - height\")\n",
    "print([min(leftMax[i],rightMax[i])-height[i] for i in range(len(height))])"
   ]
  },
  {
   "cell_type": "code",
   "execution_count": null,
   "metadata": {},
   "outputs": [],
   "source": [
    "class Solution(object):\n",
    "    def trap(self, height):\n",
    "        if len(height) == 0:\n",
    "            return 0\n",
    "        \n",
    "        n = len(height)\n",
    "        leftMax = [0]*n\n",
    "        rightMax = [0]*n\n",
    "\n",
    "        leftMax[0] = height[0]\n",
    "        rightMax[n-1] = height[n-1]\n",
    "        for i in range(1,n):\n",
    "            leftMax[i] = max(leftMax[i-1],height[i])\n",
    "        for i in range(n-2,-1,-1):\n",
    "            rightMax[i] = max(rightMax[i+1],height[i])\n",
    "        \n",
    "        water = 0\n",
    "        for i in range(n):\n",
    "            water += min(leftMax[i],rightMax[i])-height[i]\n",
    "        \n",
    "        return water        "
   ]
  },
  {
   "cell_type": "markdown",
   "metadata": {},
   "source": [
    "# 第二种：双指针"
   ]
  },
  {
   "cell_type": "code",
   "execution_count": 11,
   "metadata": {},
   "outputs": [],
   "source": [
    "# 太复杂，还是不使用嘞"
   ]
  }
 ],
 "metadata": {
  "kernelspec": {
   "display_name": "py10",
   "language": "python",
   "name": "python3"
  },
  "language_info": {
   "codemirror_mode": {
    "name": "ipython",
    "version": 3
   },
   "file_extension": ".py",
   "mimetype": "text/x-python",
   "name": "python",
   "nbconvert_exporter": "python",
   "pygments_lexer": "ipython3",
   "version": "3.10.11"
  }
 },
 "nbformat": 4,
 "nbformat_minor": 2
}
