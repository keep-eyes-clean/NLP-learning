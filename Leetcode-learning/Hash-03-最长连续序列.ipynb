{
 "cells": [
  {
   "cell_type": "markdown",
   "metadata": {},
   "source": [
    "# 题目描述：最长连续序列，ID=128\n",
    "给定一个未排序的整数数组`nums`，找出数字连续的最长序列（不要求序列元素在原数组中连续）的长度。\n",
    "\n",
    "请你设计并实现时间复杂度为 O(n) 的算法解决此问题。\n",
    "\n",
    "示例：\n",
    "```\n",
    "输入：nums = [100,4,200,1,3,2]\n",
    "输出：4\n",
    "解释：最长数字连续序列是 [1, 2, 3, 4]。它的长度为 4。\n",
    "\n",
    "输入：nums = [0,3,7,2,5,8,4,6,0,1]\n",
    "输出：9\n",
    "解释：最长数字连续序列是 [0,1,2,3,4,5,6,7,8]，长度为9\n",
    "\n",
    "输入：nums = [1,0,1,2]\n",
    "输出：3\n",
    "解释：最长连续序列是 [0,1,2]，长度为3\n",
    "```\n"
   ]
  },
  {
   "cell_type": "code",
   "execution_count": null,
   "metadata": {},
   "outputs": [
    {
     "data": {
      "text/plain": [
       "7"
      ]
     },
     "execution_count": 10,
     "metadata": {},
     "output_type": "execute_result"
    }
   ],
   "source": [
    "class Solution(object):\n",
    "    def longestConsecutive(self, nums):\n",
    "        \"\"\"\n",
    "        :type nums: List[int]\n",
    "        :rtype: int\n",
    "        \"\"\"\n",
    "        if len(nums) == 0:\n",
    "            return 0\n",
    "        else:\n",
    "            N = len(nums)\n",
    "            Hash_num_index = dict()\n",
    "            for i in range(N):\n",
    "                if nums[i] not in Hash_num_index:\n",
    "                    Hash_num_index[nums[i]] = [i]\n",
    "                else:\n",
    "                    Hash_num_index[nums[i]].append(i)\n",
    "            new_nums = list(Hash_num_index.keys())\n",
    "\n",
    "            Hash_plus_one = dict()\n",
    "            for per in new_nums:\n",
    "                Hash_plus_one[per] = per+1\n",
    "            \n",
    "            count = 1\n",
    "            max_count = count\n",
    "            min_value = min(new_nums)\n",
    "            max_value = max(new_nums)\n",
    "            while min_value != max_value:\n",
    "                query = Hash_plus_one[min_value]\n",
    "                # 如果存在大1的数值，说明存在连续\n",
    "                if Hash_plus_one.get(query) is not None:\n",
    "                    count +=1\n",
    "                    new_nums.remove(min_value)\n",
    "                    min_value = query\n",
    "                    if max_count <= count:\n",
    "                        max_count = count\n",
    "                else:\n",
    "                    count = 1\n",
    "                    new_nums.remove(min_value)\n",
    "                    min_value = min(new_nums)\n",
    "            return max_count\n",
    "\n",
    "nums = [9,1,4,7,3,-1,0,5,8,-1,6]\n",
    "sample = Solution()\n",
    "sample.longestConsecutive(nums)"
   ]
  },
  {
   "cell_type": "markdown",
   "metadata": {},
   "source": [
    "结果是超出了时间限制"
   ]
  },
  {
   "cell_type": "markdown",
   "metadata": {},
   "source": [
    "以下的方法能够实现$O(n)$的时间复杂度"
   ]
  },
  {
   "cell_type": "code",
   "execution_count": 35,
   "metadata": {},
   "outputs": [
    {
     "data": {
      "text/plain": [
       "7"
      ]
     },
     "execution_count": 35,
     "metadata": {},
     "output_type": "execute_result"
    }
   ],
   "source": [
    "class Solution(object):\n",
    "    def longestConsecutive(self, nums):\n",
    "        \"\"\"\n",
    "        :type nums: List[int]\n",
    "        :rtype: int\n",
    "        \"\"\"\n",
    "        ans = 0\n",
    "        st = set(nums)\n",
    "        for x in st:\n",
    "            if x-1 in st:\n",
    "                continue\n",
    "            y = x+1\n",
    "            while y in st:\n",
    "                y += 1\n",
    "            ans = max(ans, y-x)\n",
    "        return ans\n",
    "\n",
    "nums = [-0.4,-3,9,1,4,7,3,-1,0,5,8,-1,6]\n",
    "sample = Solution()\n",
    "sample.longestConsecutive(nums)"
   ]
  },
  {
   "cell_type": "markdown",
   "metadata": {},
   "source": [
    "## 分析\n",
    "1. 题目要求是寻找连续序列长度，这种问题没办法的，只能找到起点start和终点end，所以该如何判断start和end呢？\n",
    "    - 1. set(), 排除重复值\n",
    "    - 2. for cycle 逐一寻找 start\n",
    "    - 3. start的要求就是不能有start-1在hash表内，只要存在就要返回跳到下一个start\n",
    "    - 4. [while 循环]找到start，就判断 start+1 是否存在hash表内，存在则start += 1， 直到找到一个end\n",
    "    - 5. end 就是 start+1 不在hash表内\n",
    "    - 6. 在这个过程中更新maxLen和curLen"
   ]
  },
  {
   "cell_type": "code",
   "execution_count": 37,
   "metadata": {},
   "outputs": [
    {
     "data": {
      "text/plain": [
       "7"
      ]
     },
     "execution_count": 37,
     "metadata": {},
     "output_type": "execute_result"
    }
   ],
   "source": [
    "class Solution(object):\n",
    "    def longestConsecutive(self, nums):\n",
    "        \"\"\"\n",
    "        :type nums: List[int]\n",
    "        :rtype: int\n",
    "        \"\"\"\n",
    "        nums = set(nums)\n",
    "        maxLen = 0\n",
    "        for start in nums:\n",
    "            if start-1 not in nums:\n",
    "                curLen = 1\n",
    "                while start+1 in nums:\n",
    "                    curLen +=1\n",
    "                    start = start+1\n",
    "                if curLen > maxLen:\n",
    "                    maxLen = curLen\n",
    "        return maxLen\n",
    "    \n",
    "nums = [-0.4,-3,9,1,4,7,3,-1,0,5,8,-1,6]\n",
    "sample = Solution()\n",
    "sample.longestConsecutive(nums)"
   ]
  }
 ],
 "metadata": {
  "kernelspec": {
   "display_name": "py10",
   "language": "python",
   "name": "python3"
  },
  "language_info": {
   "codemirror_mode": {
    "name": "ipython",
    "version": 3
   },
   "file_extension": ".py",
   "mimetype": "text/x-python",
   "name": "python",
   "nbconvert_exporter": "python",
   "pygments_lexer": "ipython3",
   "version": "3.10.11"
  }
 },
 "nbformat": 4,
 "nbformat_minor": 2
}
