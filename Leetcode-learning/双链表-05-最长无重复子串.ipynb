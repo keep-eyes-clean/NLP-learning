{
 "cells": [
  {
   "cell_type": "markdown",
   "metadata": {},
   "source": [
    "# 题目描述\n",
    "给定一个字符串 s ，请你找出其中不含有重复字符的 最长 子串 的长度。\n",
    "\n",
    "示例 1:\n",
    "\n",
    "输入: s = \"abcabcbb\"\n",
    "输出: 3 \n",
    "解释: 因为无重复字符的最长子串是 \"abc\"，所以其长度为 3。\n",
    "示例 2:\n",
    "\n",
    "输入: s = \"bbbbb\"\n",
    "输出: 1\n",
    "解释: 因为无重复字符的最长子串是 \"b\"，所以其长度为 1。\n",
    "示例 3:\n",
    "\n",
    "输入: s = \"pwwkew\"\n",
    "输出: 3\n",
    "解释: 因为无重复字符的最长子串是 \"wke\"，所以其长度为 3。\n",
    "\n",
    "请注意，你的答案必须是 子串 的长度，\"pwke\" 是一个子序列，不是子串。"
   ]
  },
  {
   "cell_type": "markdown",
   "metadata": {},
   "source": [
    "# 双指针实现动态窗口\n",
    "\n",
    "滑动窗口是一种高效的算法，适用于处理子数组或子字符串的问题。通过维护一个动态的窗口来避免重复计算。\n",
    "\n",
    "核心思想：\n",
    "\n",
    "- 使用两个指针 left 和 right 表示当前窗口的左右边界。\n",
    "- 使用哈希集合 charSet 来存储当前窗口中的字符。\n",
    "- 移动右指针 right 扩大窗口：\n",
    "- 如果 s[right] 不在 charSet 中，将其加入集合，并更新最大长度。\n",
    "- 如果 s[right] 已经在集合中，说明出现重复字符，此时移动左指针 left 缩小窗口，- 直到窗口中没有重复字符为止。\n",
    "- 返回最大长度。"
   ]
  },
  {
   "cell_type": "code",
   "execution_count": null,
   "metadata": {},
   "outputs": [
    {
     "name": "stdout",
     "output_type": "stream",
     "text": [
      "set()\n",
      "{'a'}\n",
      "{'b', 'a'}\n",
      "{'b', 'a', 'c'}\n",
      "{'b', 'a', 'c'}\n",
      "{'b', 'a', 'c'}\n",
      "{'b', 'a', 'c'}\n"
     ]
    }
   ],
   "source": [
    "s = \"abcabcb\"\n",
    "\n",
    "charSet = set()\n",
    "left = 0\n",
    "maxLen = 0\n",
    "\n",
    "for right in range(len(s)):\n",
    "    while s[right] in charSet:\n",
    "        charSet.remove(s[left])\n",
    "        left += 1\n",
    "    charSet.add(s[right])\n",
    "    maxLen = max(maxLen, right-left+1)\n"
   ]
  },
  {
   "cell_type": "markdown",
   "metadata": {},
   "source": [
    "这其实是很有意思的思想，双指针确定了一个空间\n",
    "\n",
    "区间 [i,j], i+1,i+2,...,j-2,j-1内都没有重复的单词出现\n",
    "\n",
    "类似的思考还有很多，什么区间最大、区间内最小、区间内符合XXX条件之类的，都可以如此做\n",
    "\n",
    "它的想法是固定left，移动right，出现情况就移动left，删除多余部分，以此达到最大的无重复子串\n",
    "\n"
   ]
  }
 ],
 "metadata": {
  "kernelspec": {
   "display_name": "py10",
   "language": "python",
   "name": "python3"
  },
  "language_info": {
   "codemirror_mode": {
    "name": "ipython",
    "version": 3
   },
   "file_extension": ".py",
   "mimetype": "text/x-python",
   "name": "python",
   "nbconvert_exporter": "python",
   "pygments_lexer": "ipython3",
   "version": "3.10.11"
  }
 },
 "nbformat": 4,
 "nbformat_minor": 2
}
