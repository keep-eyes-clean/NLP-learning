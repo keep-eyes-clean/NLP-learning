{
 "cells": [
  {
   "cell_type": "markdown",
   "metadata": {},
   "source": [
    "# 题目描述：移动0\n",
    "\n",
    "给定一个数组 nums，编写一个函数将所有 0 移动到数组的末尾，同时保持非零元素的相对顺序。\n",
    "\n",
    "请注意 ，必须在不复制数组的情况下原地对数组进行操作。\n",
    "\n",
    "示例 1:\n",
    "\n",
    "输入: nums = [0,1,0,3,12]\n",
    "输出: [1,3,12,0,0]\n",
    "示例 2:\n",
    "\n",
    "输入: nums = [0]\n",
    "输出: [0]\n"
   ]
  },
  {
   "cell_type": "markdown",
   "metadata": {},
   "source": [
    "奇怪，题目出错了，为何这样子算出错呢"
   ]
  },
  {
   "cell_type": "code",
   "execution_count": 2,
   "metadata": {},
   "outputs": [
    {
     "data": {
      "text/plain": [
       "[1, 3, 12, 0, 0]"
      ]
     },
     "execution_count": 2,
     "metadata": {},
     "output_type": "execute_result"
    }
   ],
   "source": [
    "class Solution(object):\n",
    "    def moveZeroes(self, nums):\n",
    "        \"\"\"\n",
    "        :type nums: List[int]\n",
    "        :rtype: None Do not return anything, modify nums in-place instead.\n",
    "        \"\"\"\n",
    "        list_none_zero = []\n",
    "        list_zero = []\n",
    "        for num in nums:\n",
    "            if num == 0:\n",
    "                list_zero.append(num)\n",
    "            else:\n",
    "                list_none_zero.append(num)\n",
    "        return list_none_zero+list_zero\n",
    "\n",
    "nums = [0,1,0,3,12]\n",
    "sample = Solution()\n",
    "sample.moveZeroes(nums)"
   ]
  },
  {
   "cell_type": "markdown",
   "metadata": {},
   "source": [
    "# 正确用例\n",
    "使用双指针：\n",
    "- pos指针：存储当前循环非0元素的index\n",
    "- i  指针：循环访问nums的每个元素，找到非0元素\n",
    "\n",
    "时间复杂度：\n",
    "- $O(N)$"
   ]
  },
  {
   "cell_type": "code",
   "execution_count": 4,
   "metadata": {},
   "outputs": [
    {
     "data": {
      "text/plain": [
       "[1, 3, 12, 0, 0]"
      ]
     },
     "execution_count": 4,
     "metadata": {},
     "output_type": "execute_result"
    }
   ],
   "source": [
    "class Solution(object):\n",
    "    def moveZeroes(self, nums):\n",
    "        \"\"\"\n",
    "        :type nums: List[int]\n",
    "        :rtype: None Do not return anything, modify nums in-place instead.\n",
    "        \"\"\"\n",
    "        pos = 0 # pos指向非0元素的位置\n",
    "\n",
    "        for i in range(len(nums)):\n",
    "            if nums[i] != 0:\n",
    "                nums[pos] = nums[i]\n",
    "                pos +=1\n",
    "        \n",
    "        for i in range(pos, len(nums)):\n",
    "            nums[i] = 0\n",
    "\n",
    "nums = [0,1,0,3,12]\n",
    "sample = Solution()\n",
    "sample.moveZeroes(nums)\n",
    "nums"
   ]
  }
 ],
 "metadata": {
  "kernelspec": {
   "display_name": "py10",
   "language": "python",
   "name": "python3"
  },
  "language_info": {
   "codemirror_mode": {
    "name": "ipython",
    "version": 3
   },
   "file_extension": ".py",
   "mimetype": "text/x-python",
   "name": "python",
   "nbconvert_exporter": "python",
   "pygments_lexer": "ipython3",
   "version": "3.10.11"
  }
 },
 "nbformat": 4,
 "nbformat_minor": 2
}
