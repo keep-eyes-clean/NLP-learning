{
 "cells": [
  {
   "cell_type": "markdown",
   "metadata": {},
   "source": [
    "# 题目\n",
    "\n",
    "字母异位词 是由重新排列源单词的所有字母得到的一个新单词。\n",
    "\n",
    "给你一个字符串数组，请你将 字母异位词 组合在一起。可以按任意顺序返回结果列表。\n",
    "\n",
    "示例：\n",
    "```\n",
    "输入: strs = [\"eat\", \"tea\", \"tan\", \"ate\", \"nat\", \"bat\"]\n",
    "输出: [[\"bat\"],[\"nat\",\"tan\"],[\"ate\",\"eat\",\"tea\"]]\n",
    "\n",
    "----------------\n",
    "\n",
    "输入: strs = [\"\"]\n",
    "输出: [[\"\"]]\n",
    "\n",
    "----------------\n",
    "\n",
    "输入: strs = [\"a\"]\n",
    "输出: [[\"a\"]]\n",
    "```\n",
    "\n"
   ]
  },
  {
   "cell_type": "code",
   "execution_count": 5,
   "metadata": {},
   "outputs": [
    {
     "name": "stdout",
     "output_type": "stream",
     "text": [
      "[['eat', 'tea', 'ate'], ['tan', 'nat'], ['bat']]\n",
      "2.193450927734375e-05\n"
     ]
    }
   ],
   "source": [
    "from collections import defaultdict\n",
    "import time\n",
    "\n",
    "\n",
    "class Solution(object):\n",
    "    def groupAnagrams(self, strs):\n",
    "        \"\"\"\n",
    "        :type strs: List[str]\n",
    "        :rtype: List[List[str]]\n",
    "        \"\"\"\n",
    "        groups = defaultdict(list)\n",
    "        for word in strs:\n",
    "            count = [0] * 26\n",
    "            for char in word:\n",
    "                count[ord(char) - ord('a')] += 1\n",
    "            groups[tuple(count)].append(word)\n",
    "        return list(groups.values())\n",
    "\n",
    "strs = [\"eat\", \"tea\", \"tan\", \"ate\", \"nat\", \"bat\"]\n",
    "\n",
    "sample = Solution()\n",
    "start = time.time()\n",
    "x = sample.groupAnagrams(strs)\n",
    "end = time.time()\n",
    "\n",
    "print(x)\n",
    "print(end-start)"
   ]
  },
  {
   "cell_type": "markdown",
   "metadata": {},
   "source": [
    "# 第二种方法：\n",
    "将不同word排序，排序结果当key，然后内容是一个[word]\n",
    "\n",
    "这个方法明显更快\n",
    "\n",
    "看来AI的方法也不是完全对的"
   ]
  },
  {
   "cell_type": "code",
   "execution_count": 6,
   "metadata": {},
   "outputs": [
    {
     "name": "stdout",
     "output_type": "stream",
     "text": [
      "[['eat', 'tea', 'ate'], ['tan', 'nat'], ['bat']]\n",
      "1.71661376953125e-05\n"
     ]
    }
   ],
   "source": [
    "class Solution(object):\n",
    "    def groupAnagrams(self, strs):\n",
    "        \"\"\"\n",
    "        :type strs: List[str]\n",
    "        :rtype: List[List[str]]\n",
    "        \"\"\"\n",
    "        hash_table = {}\n",
    "        for word in strs:\n",
    "            sorted_word = \"\".join(sorted(word))\n",
    "            if sorted_word not in hash_table:\n",
    "                hash_table[sorted_word] = [word]\n",
    "            else:\n",
    "                hash_table[sorted_word].append(word)\n",
    "        return list(hash_table.values())\n",
    "    \n",
    "strs = [\"eat\", \"tea\", \"tan\", \"ate\", \"nat\", \"bat\"]\n",
    "\n",
    "sample = Solution()\n",
    "start = time.time()\n",
    "x = sample.groupAnagrams(strs)\n",
    "end = time.time()\n",
    "\n",
    "print(x)\n",
    "print(end-start)"
   ]
  },
  {
   "cell_type": "markdown",
   "metadata": {},
   "source": [
    "复杂度分析：$O(Nklogk)$"
   ]
  }
 ],
 "metadata": {
  "kernelspec": {
   "display_name": "py10",
   "language": "python",
   "name": "python3"
  },
  "language_info": {
   "codemirror_mode": {
    "name": "ipython",
    "version": 3
   },
   "file_extension": ".py",
   "mimetype": "text/x-python",
   "name": "python",
   "nbconvert_exporter": "python",
   "pygments_lexer": "ipython3",
   "version": "3.10.11"
  }
 },
 "nbformat": 4,
 "nbformat_minor": 2
}
